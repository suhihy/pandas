{
 "cells": [
  {
   "cell_type": "code",
   "execution_count": 1,
   "id": "b7bf1e2a-4f0b-48ea-8dab-f60eac23edcd",
   "metadata": {},
   "outputs": [],
   "source": [
    "import pandas as pd\n",
    "import numpy as np\n",
    "import seaborn as sns\n",
    "\n",
    "df = pd.read_csv('data/amazon_stock_data.csv')"
   ]
  },
  {
   "cell_type": "code",
   "execution_count": 2,
   "id": "8fa7475c-5589-404e-bdc0-dde1e78ff02f",
   "metadata": {},
   "outputs": [
    {
     "data": {
      "text/html": [
       "<div>\n",
       "<style scoped>\n",
       "    .dataframe tbody tr th:only-of-type {\n",
       "        vertical-align: middle;\n",
       "    }\n",
       "\n",
       "    .dataframe tbody tr th {\n",
       "        vertical-align: top;\n",
       "    }\n",
       "\n",
       "    .dataframe thead th {\n",
       "        text-align: right;\n",
       "    }\n",
       "</style>\n",
       "<table border=\"1\" class=\"dataframe\">\n",
       "  <thead>\n",
       "    <tr style=\"text-align: right;\">\n",
       "      <th></th>\n",
       "      <th>Date</th>\n",
       "      <th>Open</th>\n",
       "      <th>High</th>\n",
       "      <th>Low</th>\n",
       "      <th>Close</th>\n",
       "      <th>Adj Close</th>\n",
       "      <th>Volume</th>\n",
       "    </tr>\n",
       "  </thead>\n",
       "  <tbody>\n",
       "    <tr>\n",
       "      <th>0</th>\n",
       "      <td>1997-05-15</td>\n",
       "      <td>0.121875</td>\n",
       "      <td>0.125000</td>\n",
       "      <td>0.096354</td>\n",
       "      <td>0.097917</td>\n",
       "      <td>0.097917</td>\n",
       "      <td>1443120000</td>\n",
       "    </tr>\n",
       "    <tr>\n",
       "      <th>1</th>\n",
       "      <td>1997-05-16</td>\n",
       "      <td>0.098438</td>\n",
       "      <td>0.098958</td>\n",
       "      <td>0.085417</td>\n",
       "      <td>0.086458</td>\n",
       "      <td>0.086458</td>\n",
       "      <td>294000000</td>\n",
       "    </tr>\n",
       "    <tr>\n",
       "      <th>2</th>\n",
       "      <td>1997-05-19</td>\n",
       "      <td>0.088021</td>\n",
       "      <td>0.088542</td>\n",
       "      <td>0.081250</td>\n",
       "      <td>0.085417</td>\n",
       "      <td>0.085417</td>\n",
       "      <td>122136000</td>\n",
       "    </tr>\n",
       "    <tr>\n",
       "      <th>3</th>\n",
       "      <td>1997-05-20</td>\n",
       "      <td>0.086458</td>\n",
       "      <td>0.087500</td>\n",
       "      <td>0.081771</td>\n",
       "      <td>0.081771</td>\n",
       "      <td>0.081771</td>\n",
       "      <td>109344000</td>\n",
       "    </tr>\n",
       "    <tr>\n",
       "      <th>4</th>\n",
       "      <td>1997-05-21</td>\n",
       "      <td>0.081771</td>\n",
       "      <td>0.082292</td>\n",
       "      <td>0.068750</td>\n",
       "      <td>0.071354</td>\n",
       "      <td>0.071354</td>\n",
       "      <td>377064000</td>\n",
       "    </tr>\n",
       "  </tbody>\n",
       "</table>\n",
       "</div>"
      ],
      "text/plain": [
       "         Date      Open      High       Low     Close  Adj Close      Volume\n",
       "0  1997-05-15  0.121875  0.125000  0.096354  0.097917   0.097917  1443120000\n",
       "1  1997-05-16  0.098438  0.098958  0.085417  0.086458   0.086458   294000000\n",
       "2  1997-05-19  0.088021  0.088542  0.081250  0.085417   0.085417   122136000\n",
       "3  1997-05-20  0.086458  0.087500  0.081771  0.081771   0.081771   109344000\n",
       "4  1997-05-21  0.081771  0.082292  0.068750  0.071354   0.071354   377064000"
      ]
     },
     "execution_count": 2,
     "metadata": {},
     "output_type": "execute_result"
    }
   ],
   "source": [
    "df.head()"
   ]
  },
  {
   "cell_type": "code",
   "execution_count": 3,
   "id": "dd454e25-252c-46fb-abf5-3e108de63853",
   "metadata": {},
   "outputs": [
    {
     "name": "stdout",
     "output_type": "stream",
     "text": [
      "<class 'pandas.core.frame.DataFrame'>\n",
      "RangeIndex: 6516 entries, 0 to 6515\n",
      "Data columns (total 7 columns):\n",
      " #   Column     Non-Null Count  Dtype  \n",
      "---  ------     --------------  -----  \n",
      " 0   Date       6516 non-null   object \n",
      " 1   Open       6516 non-null   float64\n",
      " 2   High       6516 non-null   float64\n",
      " 3   Low        6516 non-null   float64\n",
      " 4   Close      6516 non-null   float64\n",
      " 5   Adj Close  6516 non-null   float64\n",
      " 6   Volume     6516 non-null   int64  \n",
      "dtypes: float64(5), int64(1), object(1)\n",
      "memory usage: 356.5+ KB\n"
     ]
    }
   ],
   "source": [
    "df.info()"
   ]
  },
  {
   "cell_type": "code",
   "execution_count": 4,
   "id": "1ed0b04a-26fc-4bc7-a9c3-99b4db424693",
   "metadata": {},
   "outputs": [
    {
     "data": {
      "text/plain": [
       "Date         0\n",
       "Open         0\n",
       "High         0\n",
       "Low          0\n",
       "Close        0\n",
       "Adj Close    0\n",
       "Volume       0\n",
       "dtype: int64"
      ]
     },
     "execution_count": 4,
     "metadata": {},
     "output_type": "execute_result"
    }
   ],
   "source": [
    "df.isnull().sum()"
   ]
  },
  {
   "cell_type": "code",
   "execution_count": 6,
   "id": "a92b5454-6614-43d4-b9dc-081d90168eb2",
   "metadata": {},
   "outputs": [
    {
     "data": {
      "text/html": [
       "<div>\n",
       "<style scoped>\n",
       "    .dataframe tbody tr th:only-of-type {\n",
       "        vertical-align: middle;\n",
       "    }\n",
       "\n",
       "    .dataframe tbody tr th {\n",
       "        vertical-align: top;\n",
       "    }\n",
       "\n",
       "    .dataframe thead th {\n",
       "        text-align: right;\n",
       "    }\n",
       "</style>\n",
       "<table border=\"1\" class=\"dataframe\">\n",
       "  <thead>\n",
       "    <tr style=\"text-align: right;\">\n",
       "      <th></th>\n",
       "      <th>Date</th>\n",
       "      <th>Open</th>\n",
       "      <th>High</th>\n",
       "      <th>Low</th>\n",
       "      <th>Close</th>\n",
       "      <th>Adj Close</th>\n",
       "      <th>Volume</th>\n",
       "    </tr>\n",
       "  </thead>\n",
       "  <tbody>\n",
       "    <tr>\n",
       "      <th>0</th>\n",
       "      <td>1997-05-15</td>\n",
       "      <td>0.121875</td>\n",
       "      <td>0.125000</td>\n",
       "      <td>0.096354</td>\n",
       "      <td>0.097917</td>\n",
       "      <td>0.097917</td>\n",
       "      <td>1443120000</td>\n",
       "    </tr>\n",
       "    <tr>\n",
       "      <th>36</th>\n",
       "      <td>1997-07-08</td>\n",
       "      <td>0.102083</td>\n",
       "      <td>0.116667</td>\n",
       "      <td>0.102083</td>\n",
       "      <td>0.115104</td>\n",
       "      <td>0.115104</td>\n",
       "      <td>310344000</td>\n",
       "    </tr>\n",
       "    <tr>\n",
       "      <th>37</th>\n",
       "      <td>1997-07-09</td>\n",
       "      <td>0.115104</td>\n",
       "      <td>0.119271</td>\n",
       "      <td>0.113542</td>\n",
       "      <td>0.116146</td>\n",
       "      <td>0.116146</td>\n",
       "      <td>165240000</td>\n",
       "    </tr>\n",
       "    <tr>\n",
       "      <th>38</th>\n",
       "      <td>1997-07-10</td>\n",
       "      <td>0.116667</td>\n",
       "      <td>0.128646</td>\n",
       "      <td>0.116667</td>\n",
       "      <td>0.128125</td>\n",
       "      <td>0.128125</td>\n",
       "      <td>181032000</td>\n",
       "    </tr>\n",
       "    <tr>\n",
       "      <th>39</th>\n",
       "      <td>1997-07-11</td>\n",
       "      <td>0.126042</td>\n",
       "      <td>0.126042</td>\n",
       "      <td>0.110417</td>\n",
       "      <td>0.114583</td>\n",
       "      <td>0.114583</td>\n",
       "      <td>210624000</td>\n",
       "    </tr>\n",
       "  </tbody>\n",
       "</table>\n",
       "</div>"
      ],
      "text/plain": [
       "          Date      Open      High       Low     Close  Adj Close      Volume\n",
       "0   1997-05-15  0.121875  0.125000  0.096354  0.097917   0.097917  1443120000\n",
       "36  1997-07-08  0.102083  0.116667  0.102083  0.115104   0.115104   310344000\n",
       "37  1997-07-09  0.115104  0.119271  0.113542  0.116146   0.116146   165240000\n",
       "38  1997-07-10  0.116667  0.128646  0.116667  0.128125   0.128125   181032000\n",
       "39  1997-07-11  0.126042  0.126042  0.110417  0.114583   0.114583   210624000"
      ]
     },
     "execution_count": 6,
     "metadata": {},
     "output_type": "execute_result"
    }
   ],
   "source": [
    "cond = df['Open'] > 0.1\n",
    "df[cond].head()"
   ]
  },
  {
   "cell_type": "code",
   "execution_count": 9,
   "id": "0a81c9a6-3ad6-4f86-a8e6-18dbbc70e537",
   "metadata": {},
   "outputs": [
    {
     "data": {
      "text/html": [
       "<div>\n",
       "<style scoped>\n",
       "    .dataframe tbody tr th:only-of-type {\n",
       "        vertical-align: middle;\n",
       "    }\n",
       "\n",
       "    .dataframe tbody tr th {\n",
       "        vertical-align: top;\n",
       "    }\n",
       "\n",
       "    .dataframe thead th {\n",
       "        text-align: right;\n",
       "    }\n",
       "</style>\n",
       "<table border=\"1\" class=\"dataframe\">\n",
       "  <thead>\n",
       "    <tr style=\"text-align: right;\">\n",
       "      <th></th>\n",
       "      <th>Date</th>\n",
       "      <th>Open</th>\n",
       "      <th>High</th>\n",
       "      <th>Low</th>\n",
       "      <th>Adj Close</th>\n",
       "      <th>Volume</th>\n",
       "    </tr>\n",
       "  </thead>\n",
       "  <tbody>\n",
       "    <tr>\n",
       "      <th>6511</th>\n",
       "      <td>2023-03-30</td>\n",
       "      <td>101.550003</td>\n",
       "      <td>103.040001</td>\n",
       "      <td>101.010002</td>\n",
       "      <td>102.000000</td>\n",
       "      <td>53633400</td>\n",
       "    </tr>\n",
       "    <tr>\n",
       "      <th>6512</th>\n",
       "      <td>2023-03-31</td>\n",
       "      <td>102.160004</td>\n",
       "      <td>103.489998</td>\n",
       "      <td>101.949997</td>\n",
       "      <td>103.290001</td>\n",
       "      <td>56704300</td>\n",
       "    </tr>\n",
       "    <tr>\n",
       "      <th>6513</th>\n",
       "      <td>2023-04-03</td>\n",
       "      <td>102.300003</td>\n",
       "      <td>103.290001</td>\n",
       "      <td>101.430000</td>\n",
       "      <td>102.410004</td>\n",
       "      <td>41135700</td>\n",
       "    </tr>\n",
       "    <tr>\n",
       "      <th>6514</th>\n",
       "      <td>2023-04-04</td>\n",
       "      <td>102.750000</td>\n",
       "      <td>104.199997</td>\n",
       "      <td>102.110001</td>\n",
       "      <td>103.949997</td>\n",
       "      <td>48662500</td>\n",
       "    </tr>\n",
       "    <tr>\n",
       "      <th>6515</th>\n",
       "      <td>2023-04-05</td>\n",
       "      <td>103.910004</td>\n",
       "      <td>103.910004</td>\n",
       "      <td>100.750000</td>\n",
       "      <td>101.099998</td>\n",
       "      <td>45103000</td>\n",
       "    </tr>\n",
       "  </tbody>\n",
       "</table>\n",
       "</div>"
      ],
      "text/plain": [
       "            Date        Open        High         Low   Adj Close    Volume\n",
       "6511  2023-03-30  101.550003  103.040001  101.010002  102.000000  53633400\n",
       "6512  2023-03-31  102.160004  103.489998  101.949997  103.290001  56704300\n",
       "6513  2023-04-03  102.300003  103.290001  101.430000  102.410004  41135700\n",
       "6514  2023-04-04  102.750000  104.199997  102.110001  103.949997  48662500\n",
       "6515  2023-04-05  103.910004  103.910004  100.750000  101.099998  45103000"
      ]
     },
     "execution_count": 9,
     "metadata": {},
     "output_type": "execute_result"
    }
   ],
   "source": [
    "df.drop(columns=['Close']).tail()"
   ]
  },
  {
   "cell_type": "code",
   "execution_count": 10,
   "id": "fe7680b7-1274-4fe9-a44f-24d0aa2b8a1a",
   "metadata": {},
   "outputs": [
    {
     "data": {
      "text/plain": [
       "np.float64(142533820.3038674)"
      ]
     },
     "execution_count": 10,
     "metadata": {},
     "output_type": "execute_result"
    }
   ],
   "source": [
    "df['Volume'].mean()"
   ]
  },
  {
   "cell_type": "code",
   "execution_count": 11,
   "id": "9061cfe1-bea2-4e28-8283-bd2886214076",
   "metadata": {},
   "outputs": [
    {
     "data": {
      "text/plain": [
       "np.float64(105905000.0)"
      ]
     },
     "execution_count": 11,
     "metadata": {},
     "output_type": "execute_result"
    }
   ],
   "source": [
    "df['Volume'].median()"
   ]
  },
  {
   "cell_type": "code",
   "execution_count": 12,
   "id": "4fef9453-b560-4651-b54f-f4eff8cb4b89",
   "metadata": {},
   "outputs": [
    {
     "data": {
      "text/html": [
       "<div>\n",
       "<style scoped>\n",
       "    .dataframe tbody tr th:only-of-type {\n",
       "        vertical-align: middle;\n",
       "    }\n",
       "\n",
       "    .dataframe tbody tr th {\n",
       "        vertical-align: top;\n",
       "    }\n",
       "\n",
       "    .dataframe thead th {\n",
       "        text-align: right;\n",
       "    }\n",
       "</style>\n",
       "<table border=\"1\" class=\"dataframe\">\n",
       "  <thead>\n",
       "    <tr style=\"text-align: right;\">\n",
       "      <th></th>\n",
       "      <th>Volume</th>\n",
       "      <th>High</th>\n",
       "    </tr>\n",
       "  </thead>\n",
       "  <tbody>\n",
       "    <tr>\n",
       "      <th>min</th>\n",
       "      <td>9.744000e+06</td>\n",
       "      <td>0.072396</td>\n",
       "    </tr>\n",
       "    <tr>\n",
       "      <th>max</th>\n",
       "      <td>2.086584e+09</td>\n",
       "      <td>188.654007</td>\n",
       "    </tr>\n",
       "    <tr>\n",
       "      <th>std</th>\n",
       "      <td>1.401619e+08</td>\n",
       "      <td>48.659651</td>\n",
       "    </tr>\n",
       "  </tbody>\n",
       "</table>\n",
       "</div>"
      ],
      "text/plain": [
       "           Volume        High\n",
       "min  9.744000e+06    0.072396\n",
       "max  2.086584e+09  188.654007\n",
       "std  1.401619e+08   48.659651"
      ]
     },
     "execution_count": 12,
     "metadata": {},
     "output_type": "execute_result"
    }
   ],
   "source": [
    "df[['Volume', 'High']].agg(['min', 'max', 'std'])"
   ]
  },
  {
   "cell_type": "code",
   "execution_count": 13,
   "id": "c08a2094-f0cd-4a82-9af0-576e626e9b9f",
   "metadata": {},
   "outputs": [
    {
     "data": {
      "text/plain": [
       "np.float64(75206000.0)"
      ]
     },
     "execution_count": 13,
     "metadata": {},
     "output_type": "execute_result"
    }
   ],
   "source": [
    "df['Volume'].quantile(0.3)"
   ]
  },
  {
   "cell_type": "code",
   "execution_count": 15,
   "id": "75b403a2-e4fe-4334-8fe0-5aeafa9c1599",
   "metadata": {},
   "outputs": [
    {
     "data": {
      "text/plain": [
       "array(['1997-05-15', '1997-05-16', '1997-05-19', ..., '2023-04-03',\n",
       "       '2023-04-04', '2023-04-05'], dtype=object)"
      ]
     },
     "execution_count": 15,
     "metadata": {},
     "output_type": "execute_result"
    }
   ],
   "source": [
    "df['Date'].unique()"
   ]
  },
  {
   "cell_type": "code",
   "execution_count": 16,
   "id": "3db9d9a4-792a-4cc9-b3b8-9de101965933",
   "metadata": {},
   "outputs": [
    {
     "data": {
      "text/plain": [
       "6516"
      ]
     },
     "execution_count": 16,
     "metadata": {},
     "output_type": "execute_result"
    }
   ],
   "source": [
    "df['Date'].nunique()"
   ]
  },
  {
   "cell_type": "code",
   "execution_count": 17,
   "id": "b1871695-d16e-4e37-a9b2-d1b57e9f8a58",
   "metadata": {},
   "outputs": [
    {
     "data": {
      "text/plain": [
       "0    0.075521\n",
       "Name: Adj Close, dtype: float64"
      ]
     },
     "execution_count": 17,
     "metadata": {},
     "output_type": "execute_result"
    }
   ],
   "source": [
    "df['Adj Close'].mode()"
   ]
  },
  {
   "cell_type": "code",
   "execution_count": 18,
   "id": "ea02ac9b-fb22-489e-9e66-55b15ba88ca2",
   "metadata": {},
   "outputs": [
    {
     "data": {
      "text/html": [
       "<div>\n",
       "<style scoped>\n",
       "    .dataframe tbody tr th:only-of-type {\n",
       "        vertical-align: middle;\n",
       "    }\n",
       "\n",
       "    .dataframe tbody tr th {\n",
       "        vertical-align: top;\n",
       "    }\n",
       "\n",
       "    .dataframe thead th {\n",
       "        text-align: right;\n",
       "    }\n",
       "</style>\n",
       "<table border=\"1\" class=\"dataframe\">\n",
       "  <thead>\n",
       "    <tr style=\"text-align: right;\">\n",
       "      <th></th>\n",
       "      <th>Open</th>\n",
       "      <th>High</th>\n",
       "      <th>Low</th>\n",
       "      <th>Close</th>\n",
       "      <th>Adj Close</th>\n",
       "      <th>Volume</th>\n",
       "    </tr>\n",
       "  </thead>\n",
       "  <tbody>\n",
       "    <tr>\n",
       "      <th>count</th>\n",
       "      <td>6516.000000</td>\n",
       "      <td>6516.000000</td>\n",
       "      <td>6516.000000</td>\n",
       "      <td>6516.000000</td>\n",
       "      <td>6516.000000</td>\n",
       "      <td>6.516000e+03</td>\n",
       "    </tr>\n",
       "    <tr>\n",
       "      <th>mean</th>\n",
       "      <td>31.611626</td>\n",
       "      <td>31.991995</td>\n",
       "      <td>31.193432</td>\n",
       "      <td>31.599740</td>\n",
       "      <td>31.599740</td>\n",
       "      <td>1.425338e+08</td>\n",
       "    </tr>\n",
       "    <tr>\n",
       "      <th>std</th>\n",
       "      <td>48.095343</td>\n",
       "      <td>48.659651</td>\n",
       "      <td>47.464476</td>\n",
       "      <td>48.060258</td>\n",
       "      <td>48.060258</td>\n",
       "      <td>1.401619e+08</td>\n",
       "    </tr>\n",
       "    <tr>\n",
       "      <th>min</th>\n",
       "      <td>0.070313</td>\n",
       "      <td>0.072396</td>\n",
       "      <td>0.065625</td>\n",
       "      <td>0.069792</td>\n",
       "      <td>0.069792</td>\n",
       "      <td>9.744000e+06</td>\n",
       "    </tr>\n",
       "    <tr>\n",
       "      <th>25%</th>\n",
       "      <td>1.998875</td>\n",
       "      <td>2.028500</td>\n",
       "      <td>1.964750</td>\n",
       "      <td>2.001250</td>\n",
       "      <td>2.001250</td>\n",
       "      <td>6.888182e+07</td>\n",
       "    </tr>\n",
       "    <tr>\n",
       "      <th>50%</th>\n",
       "      <td>6.456750</td>\n",
       "      <td>6.535500</td>\n",
       "      <td>6.353250</td>\n",
       "      <td>6.444250</td>\n",
       "      <td>6.444250</td>\n",
       "      <td>1.059050e+08</td>\n",
       "    </tr>\n",
       "    <tr>\n",
       "      <th>75%</th>\n",
       "      <td>38.451375</td>\n",
       "      <td>38.688000</td>\n",
       "      <td>38.203001</td>\n",
       "      <td>38.464625</td>\n",
       "      <td>38.464625</td>\n",
       "      <td>1.607700e+08</td>\n",
       "    </tr>\n",
       "    <tr>\n",
       "      <th>max</th>\n",
       "      <td>187.199997</td>\n",
       "      <td>188.654007</td>\n",
       "      <td>184.839493</td>\n",
       "      <td>186.570496</td>\n",
       "      <td>186.570496</td>\n",
       "      <td>2.086584e+09</td>\n",
       "    </tr>\n",
       "  </tbody>\n",
       "</table>\n",
       "</div>"
      ],
      "text/plain": [
       "              Open         High          Low        Close    Adj Close  \\\n",
       "count  6516.000000  6516.000000  6516.000000  6516.000000  6516.000000   \n",
       "mean     31.611626    31.991995    31.193432    31.599740    31.599740   \n",
       "std      48.095343    48.659651    47.464476    48.060258    48.060258   \n",
       "min       0.070313     0.072396     0.065625     0.069792     0.069792   \n",
       "25%       1.998875     2.028500     1.964750     2.001250     2.001250   \n",
       "50%       6.456750     6.535500     6.353250     6.444250     6.444250   \n",
       "75%      38.451375    38.688000    38.203001    38.464625    38.464625   \n",
       "max     187.199997   188.654007   184.839493   186.570496   186.570496   \n",
       "\n",
       "             Volume  \n",
       "count  6.516000e+03  \n",
       "mean   1.425338e+08  \n",
       "std    1.401619e+08  \n",
       "min    9.744000e+06  \n",
       "25%    6.888182e+07  \n",
       "50%    1.059050e+08  \n",
       "75%    1.607700e+08  \n",
       "max    2.086584e+09  "
      ]
     },
     "execution_count": 18,
     "metadata": {},
     "output_type": "execute_result"
    }
   ],
   "source": [
    "df.describe()"
   ]
  },
  {
   "cell_type": "code",
   "execution_count": 19,
   "id": "393e25c9-3fc5-4e54-abc9-edd40f0d4156",
   "metadata": {},
   "outputs": [
    {
     "data": {
      "text/plain": [
       "2"
      ]
     },
     "execution_count": 19,
     "metadata": {},
     "output_type": "execute_result"
    }
   ],
   "source": [
    "df.ndim"
   ]
  },
  {
   "cell_type": "code",
   "execution_count": 20,
   "id": "20e6e02a-b1ef-47bd-8047-3857ba42a8f5",
   "metadata": {},
   "outputs": [
    {
     "data": {
      "text/plain": [
       "(6516, 7)"
      ]
     },
     "execution_count": 20,
     "metadata": {},
     "output_type": "execute_result"
    }
   ],
   "source": [
    "df.shape"
   ]
  },
  {
   "cell_type": "code",
   "execution_count": 21,
   "id": "c980e97c-90ac-4542-8269-485345b7cf64",
   "metadata": {},
   "outputs": [
    {
     "data": {
      "text/plain": [
       "RangeIndex(start=0, stop=6516, step=1)"
      ]
     },
     "execution_count": 21,
     "metadata": {},
     "output_type": "execute_result"
    }
   ],
   "source": [
    "df.index"
   ]
  },
  {
   "cell_type": "code",
   "execution_count": 22,
   "id": "f07f9f64-df3d-479b-8250-39285dfe576b",
   "metadata": {},
   "outputs": [
    {
     "data": {
      "text/plain": [
       "Index(['Date', 'Open', 'High', 'Low', 'Close', 'Adj Close', 'Volume'], dtype='object')"
      ]
     },
     "execution_count": 22,
     "metadata": {},
     "output_type": "execute_result"
    }
   ],
   "source": [
    "df.columns"
   ]
  },
  {
   "cell_type": "code",
   "execution_count": 23,
   "id": "e256d426-6f7a-4e50-b8e9-a84eeda3f984",
   "metadata": {},
   "outputs": [
    {
     "data": {
      "text/plain": [
       "np.float64(0.072396)"
      ]
     },
     "execution_count": 23,
     "metadata": {},
     "output_type": "execute_result"
    }
   ],
   "source": [
    "df.loc[5, 'High']"
   ]
  },
  {
   "cell_type": "code",
   "execution_count": 24,
   "id": "1de1fcac-d87d-4102-906e-8c4185916fd3",
   "metadata": {
    "scrolled": true
   },
   "outputs": [
    {
     "data": {
      "text/html": [
       "<div>\n",
       "<style scoped>\n",
       "    .dataframe tbody tr th:only-of-type {\n",
       "        vertical-align: middle;\n",
       "    }\n",
       "\n",
       "    .dataframe tbody tr th {\n",
       "        vertical-align: top;\n",
       "    }\n",
       "\n",
       "    .dataframe thead th {\n",
       "        text-align: right;\n",
       "    }\n",
       "</style>\n",
       "<table border=\"1\" class=\"dataframe\">\n",
       "  <thead>\n",
       "    <tr style=\"text-align: right;\">\n",
       "      <th></th>\n",
       "      <th>Date</th>\n",
       "      <th>Low</th>\n",
       "    </tr>\n",
       "  </thead>\n",
       "  <tbody>\n",
       "    <tr>\n",
       "      <th>5000</th>\n",
       "      <td>2017-03-29</td>\n",
       "      <td>42.951000</td>\n",
       "    </tr>\n",
       "    <tr>\n",
       "      <th>5001</th>\n",
       "      <td>2017-03-30</td>\n",
       "      <td>43.583000</td>\n",
       "    </tr>\n",
       "    <tr>\n",
       "      <th>5002</th>\n",
       "      <td>2017-03-31</td>\n",
       "      <td>43.832500</td>\n",
       "    </tr>\n",
       "    <tr>\n",
       "      <th>5003</th>\n",
       "      <td>2017-04-03</td>\n",
       "      <td>44.271000</td>\n",
       "    </tr>\n",
       "    <tr>\n",
       "      <th>5004</th>\n",
       "      <td>2017-04-04</td>\n",
       "      <td>44.514000</td>\n",
       "    </tr>\n",
       "    <tr>\n",
       "      <th>5005</th>\n",
       "      <td>2017-04-05</td>\n",
       "      <td>45.280998</td>\n",
       "    </tr>\n",
       "    <tr>\n",
       "      <th>5006</th>\n",
       "      <td>2017-04-06</td>\n",
       "      <td>44.724499</td>\n",
       "    </tr>\n",
       "    <tr>\n",
       "      <th>5007</th>\n",
       "      <td>2017-04-07</td>\n",
       "      <td>44.465500</td>\n",
       "    </tr>\n",
       "    <tr>\n",
       "      <th>5008</th>\n",
       "      <td>2017-04-10</td>\n",
       "      <td>44.950001</td>\n",
       "    </tr>\n",
       "    <tr>\n",
       "      <th>5009</th>\n",
       "      <td>2017-04-11</td>\n",
       "      <td>44.875000</td>\n",
       "    </tr>\n",
       "    <tr>\n",
       "      <th>5010</th>\n",
       "      <td>2017-04-12</td>\n",
       "      <td>44.762501</td>\n",
       "    </tr>\n",
       "    <tr>\n",
       "      <th>5011</th>\n",
       "      <td>2017-04-13</td>\n",
       "      <td>44.224499</td>\n",
       "    </tr>\n",
       "    <tr>\n",
       "      <th>5012</th>\n",
       "      <td>2017-04-17</td>\n",
       "      <td>44.375000</td>\n",
       "    </tr>\n",
       "    <tr>\n",
       "      <th>5013</th>\n",
       "      <td>2017-04-18</td>\n",
       "      <td>45.039001</td>\n",
       "    </tr>\n",
       "    <tr>\n",
       "      <th>5014</th>\n",
       "      <td>2017-04-19</td>\n",
       "      <td>44.868500</td>\n",
       "    </tr>\n",
       "    <tr>\n",
       "      <th>5015</th>\n",
       "      <td>2017-04-20</td>\n",
       "      <td>44.814499</td>\n",
       "    </tr>\n",
       "    <tr>\n",
       "      <th>5016</th>\n",
       "      <td>2017-04-21</td>\n",
       "      <td>44.838501</td>\n",
       "    </tr>\n",
       "    <tr>\n",
       "      <th>5017</th>\n",
       "      <td>2017-04-24</td>\n",
       "      <td>45.191002</td>\n",
       "    </tr>\n",
       "    <tr>\n",
       "      <th>5018</th>\n",
       "      <td>2017-04-25</td>\n",
       "      <td>45.150002</td>\n",
       "    </tr>\n",
       "    <tr>\n",
       "      <th>5019</th>\n",
       "      <td>2017-04-26</td>\n",
       "      <td>45.377998</td>\n",
       "    </tr>\n",
       "    <tr>\n",
       "      <th>5020</th>\n",
       "      <td>2017-04-27</td>\n",
       "      <td>45.605499</td>\n",
       "    </tr>\n",
       "  </tbody>\n",
       "</table>\n",
       "</div>"
      ],
      "text/plain": [
       "            Date        Low\n",
       "5000  2017-03-29  42.951000\n",
       "5001  2017-03-30  43.583000\n",
       "5002  2017-03-31  43.832500\n",
       "5003  2017-04-03  44.271000\n",
       "5004  2017-04-04  44.514000\n",
       "5005  2017-04-05  45.280998\n",
       "5006  2017-04-06  44.724499\n",
       "5007  2017-04-07  44.465500\n",
       "5008  2017-04-10  44.950001\n",
       "5009  2017-04-11  44.875000\n",
       "5010  2017-04-12  44.762501\n",
       "5011  2017-04-13  44.224499\n",
       "5012  2017-04-17  44.375000\n",
       "5013  2017-04-18  45.039001\n",
       "5014  2017-04-19  44.868500\n",
       "5015  2017-04-20  44.814499\n",
       "5016  2017-04-21  44.838501\n",
       "5017  2017-04-24  45.191002\n",
       "5018  2017-04-25  45.150002\n",
       "5019  2017-04-26  45.377998\n",
       "5020  2017-04-27  45.605499"
      ]
     },
     "execution_count": 24,
     "metadata": {},
     "output_type": "execute_result"
    }
   ],
   "source": [
    "df.loc[5000:5020, ['Date', 'Low']]"
   ]
  },
  {
   "cell_type": "code",
   "execution_count": 25,
   "id": "9bf70608-dbe7-4af5-917d-f0d71e96762f",
   "metadata": {},
   "outputs": [
    {
     "data": {
      "text/html": [
       "<div>\n",
       "<style scoped>\n",
       "    .dataframe tbody tr th:only-of-type {\n",
       "        vertical-align: middle;\n",
       "    }\n",
       "\n",
       "    .dataframe tbody tr th {\n",
       "        vertical-align: top;\n",
       "    }\n",
       "\n",
       "    .dataframe thead th {\n",
       "        text-align: right;\n",
       "    }\n",
       "</style>\n",
       "<table border=\"1\" class=\"dataframe\">\n",
       "  <thead>\n",
       "    <tr style=\"text-align: right;\">\n",
       "      <th></th>\n",
       "      <th>Date</th>\n",
       "      <th>Open</th>\n",
       "      <th>High</th>\n",
       "      <th>Low</th>\n",
       "      <th>Close</th>\n",
       "      <th>Adj Close</th>\n",
       "      <th>Volume</th>\n",
       "    </tr>\n",
       "  </thead>\n",
       "  <tbody>\n",
       "    <tr>\n",
       "      <th>5003</th>\n",
       "      <td>2017-04-03</td>\n",
       "      <td>44.400002</td>\n",
       "      <td>44.674500</td>\n",
       "      <td>44.271000</td>\n",
       "      <td>44.575500</td>\n",
       "      <td>44.575500</td>\n",
       "      <td>68446000</td>\n",
       "    </tr>\n",
       "    <tr>\n",
       "      <th>5004</th>\n",
       "      <td>2017-04-04</td>\n",
       "      <td>44.575001</td>\n",
       "      <td>45.426998</td>\n",
       "      <td>44.514000</td>\n",
       "      <td>45.341499</td>\n",
       "      <td>45.341499</td>\n",
       "      <td>99694000</td>\n",
       "    </tr>\n",
       "    <tr>\n",
       "      <th>5005</th>\n",
       "      <td>2017-04-05</td>\n",
       "      <td>45.541000</td>\n",
       "      <td>46.186001</td>\n",
       "      <td>45.280998</td>\n",
       "      <td>45.464001</td>\n",
       "      <td>45.464001</td>\n",
       "      <td>150168000</td>\n",
       "    </tr>\n",
       "    <tr>\n",
       "      <th>5006</th>\n",
       "      <td>2017-04-06</td>\n",
       "      <td>45.689999</td>\n",
       "      <td>45.859501</td>\n",
       "      <td>44.724499</td>\n",
       "      <td>44.914001</td>\n",
       "      <td>44.914001</td>\n",
       "      <td>126882000</td>\n",
       "    </tr>\n",
       "    <tr>\n",
       "      <th>5007</th>\n",
       "      <td>2017-04-07</td>\n",
       "      <td>44.982498</td>\n",
       "      <td>45.004501</td>\n",
       "      <td>44.465500</td>\n",
       "      <td>44.743999</td>\n",
       "      <td>44.743999</td>\n",
       "      <td>74218000</td>\n",
       "    </tr>\n",
       "  </tbody>\n",
       "</table>\n",
       "</div>"
      ],
      "text/plain": [
       "            Date       Open       High        Low      Close  Adj Close  \\\n",
       "5003  2017-04-03  44.400002  44.674500  44.271000  44.575500  44.575500   \n",
       "5004  2017-04-04  44.575001  45.426998  44.514000  45.341499  45.341499   \n",
       "5005  2017-04-05  45.541000  46.186001  45.280998  45.464001  45.464001   \n",
       "5006  2017-04-06  45.689999  45.859501  44.724499  44.914001  44.914001   \n",
       "5007  2017-04-07  44.982498  45.004501  44.465500  44.743999  44.743999   \n",
       "\n",
       "         Volume  \n",
       "5003   68446000  \n",
       "5004   99694000  \n",
       "5005  150168000  \n",
       "5006  126882000  \n",
       "5007   74218000  "
      ]
     },
     "execution_count": 25,
     "metadata": {},
     "output_type": "execute_result"
    }
   ],
   "source": [
    "cond = df['Low'] > 44\n",
    "df.loc[cond].head()"
   ]
  },
  {
   "cell_type": "code",
   "execution_count": 35,
   "id": "285bcdc3-7372-48d5-8118-e2d1102b2212",
   "metadata": {},
   "outputs": [
    {
     "data": {
      "text/html": [
       "<div>\n",
       "<style scoped>\n",
       "    .dataframe tbody tr th:only-of-type {\n",
       "        vertical-align: middle;\n",
       "    }\n",
       "\n",
       "    .dataframe tbody tr th {\n",
       "        vertical-align: top;\n",
       "    }\n",
       "\n",
       "    .dataframe thead th {\n",
       "        text-align: right;\n",
       "    }\n",
       "</style>\n",
       "<table border=\"1\" class=\"dataframe\">\n",
       "  <thead>\n",
       "    <tr style=\"text-align: right;\">\n",
       "      <th></th>\n",
       "      <th>Date</th>\n",
       "      <th>Open</th>\n",
       "      <th>High</th>\n",
       "      <th>Low</th>\n",
       "      <th>Close</th>\n",
       "      <th>Adj Close</th>\n",
       "      <th>Volume</th>\n",
       "    </tr>\n",
       "  </thead>\n",
       "  <tbody>\n",
       "    <tr>\n",
       "      <th>5695</th>\n",
       "      <td>2020-01-02</td>\n",
       "      <td>93.750000</td>\n",
       "      <td>94.900497</td>\n",
       "      <td>93.207497</td>\n",
       "      <td>94.900497</td>\n",
       "      <td>94.900497</td>\n",
       "      <td>80580000</td>\n",
       "    </tr>\n",
       "    <tr>\n",
       "      <th>5696</th>\n",
       "      <td>2020-01-03</td>\n",
       "      <td>93.224998</td>\n",
       "      <td>94.309998</td>\n",
       "      <td>93.224998</td>\n",
       "      <td>93.748497</td>\n",
       "      <td>93.748497</td>\n",
       "      <td>75288000</td>\n",
       "    </tr>\n",
       "    <tr>\n",
       "      <th>5697</th>\n",
       "      <td>2020-01-06</td>\n",
       "      <td>93.000000</td>\n",
       "      <td>95.184502</td>\n",
       "      <td>93.000000</td>\n",
       "      <td>95.143997</td>\n",
       "      <td>95.143997</td>\n",
       "      <td>81236000</td>\n",
       "    </tr>\n",
       "    <tr>\n",
       "      <th>5698</th>\n",
       "      <td>2020-01-07</td>\n",
       "      <td>95.224998</td>\n",
       "      <td>95.694504</td>\n",
       "      <td>94.601997</td>\n",
       "      <td>95.343002</td>\n",
       "      <td>95.343002</td>\n",
       "      <td>80898000</td>\n",
       "    </tr>\n",
       "    <tr>\n",
       "      <th>5699</th>\n",
       "      <td>2020-01-08</td>\n",
       "      <td>94.902000</td>\n",
       "      <td>95.550003</td>\n",
       "      <td>94.321999</td>\n",
       "      <td>94.598503</td>\n",
       "      <td>94.598503</td>\n",
       "      <td>70160000</td>\n",
       "    </tr>\n",
       "  </tbody>\n",
       "</table>\n",
       "</div>"
      ],
      "text/plain": [
       "            Date       Open       High        Low      Close  Adj Close  \\\n",
       "5695  2020-01-02  93.750000  94.900497  93.207497  94.900497  94.900497   \n",
       "5696  2020-01-03  93.224998  94.309998  93.224998  93.748497  93.748497   \n",
       "5697  2020-01-06  93.000000  95.184502  93.000000  95.143997  95.143997   \n",
       "5698  2020-01-07  95.224998  95.694504  94.601997  95.343002  95.343002   \n",
       "5699  2020-01-08  94.902000  95.550003  94.321999  94.598503  94.598503   \n",
       "\n",
       "        Volume  \n",
       "5695  80580000  \n",
       "5696  75288000  \n",
       "5697  81236000  \n",
       "5698  80898000  \n",
       "5699  70160000  "
      ]
     },
     "execution_count": 35,
     "metadata": {},
     "output_type": "execute_result"
    }
   ],
   "source": [
    "cond = df['Date'].str.contains('2020')  #str.contains -> () 안의 문자열 포함되는 것\n",
    "df.loc[cond].head()"
   ]
  },
  {
   "cell_type": "code",
   "execution_count": 42,
   "id": "3920b6e6-c747-4b27-8438-9f27782f58f8",
   "metadata": {},
   "outputs": [
    {
     "data": {
      "text/html": [
       "<div>\n",
       "<style scoped>\n",
       "    .dataframe tbody tr th:only-of-type {\n",
       "        vertical-align: middle;\n",
       "    }\n",
       "\n",
       "    .dataframe tbody tr th {\n",
       "        vertical-align: top;\n",
       "    }\n",
       "\n",
       "    .dataframe thead th {\n",
       "        text-align: right;\n",
       "    }\n",
       "</style>\n",
       "<table border=\"1\" class=\"dataframe\">\n",
       "  <thead>\n",
       "    <tr style=\"text-align: right;\">\n",
       "      <th></th>\n",
       "      <th>Date</th>\n",
       "      <th>Open</th>\n",
       "      <th>High</th>\n",
       "      <th>Low</th>\n",
       "      <th>Close</th>\n",
       "      <th>Adj Close</th>\n",
       "      <th>Volume</th>\n",
       "    </tr>\n",
       "  </thead>\n",
       "  <tbody>\n",
       "    <tr>\n",
       "      <th>6470</th>\n",
       "      <td>2023-01-31</td>\n",
       "      <td>101.160004</td>\n",
       "      <td>103.349998</td>\n",
       "      <td>101.139999</td>\n",
       "      <td>103.129997</td>\n",
       "      <td>103.129997</td>\n",
       "      <td>66527300</td>\n",
       "    </tr>\n",
       "    <tr>\n",
       "      <th>6471</th>\n",
       "      <td>2023-02-01</td>\n",
       "      <td>102.529999</td>\n",
       "      <td>106.239998</td>\n",
       "      <td>101.239998</td>\n",
       "      <td>105.150002</td>\n",
       "      <td>105.150002</td>\n",
       "      <td>80450100</td>\n",
       "    </tr>\n",
       "    <tr>\n",
       "      <th>6472</th>\n",
       "      <td>2023-02-02</td>\n",
       "      <td>110.250000</td>\n",
       "      <td>114.000000</td>\n",
       "      <td>108.879997</td>\n",
       "      <td>112.910004</td>\n",
       "      <td>112.910004</td>\n",
       "      <td>158154200</td>\n",
       "    </tr>\n",
       "    <tr>\n",
       "      <th>6473</th>\n",
       "      <td>2023-02-03</td>\n",
       "      <td>105.260002</td>\n",
       "      <td>108.779999</td>\n",
       "      <td>102.519997</td>\n",
       "      <td>103.389999</td>\n",
       "      <td>103.389999</td>\n",
       "      <td>144374800</td>\n",
       "    </tr>\n",
       "    <tr>\n",
       "      <th>6474</th>\n",
       "      <td>2023-02-06</td>\n",
       "      <td>102.930000</td>\n",
       "      <td>103.949997</td>\n",
       "      <td>100.650002</td>\n",
       "      <td>102.180000</td>\n",
       "      <td>102.180000</td>\n",
       "      <td>81945200</td>\n",
       "    </tr>\n",
       "    <tr>\n",
       "      <th>6511</th>\n",
       "      <td>2023-03-30</td>\n",
       "      <td>101.550003</td>\n",
       "      <td>103.040001</td>\n",
       "      <td>101.010002</td>\n",
       "      <td>102.000000</td>\n",
       "      <td>102.000000</td>\n",
       "      <td>53633400</td>\n",
       "    </tr>\n",
       "    <tr>\n",
       "      <th>6512</th>\n",
       "      <td>2023-03-31</td>\n",
       "      <td>102.160004</td>\n",
       "      <td>103.489998</td>\n",
       "      <td>101.949997</td>\n",
       "      <td>103.290001</td>\n",
       "      <td>103.290001</td>\n",
       "      <td>56704300</td>\n",
       "    </tr>\n",
       "    <tr>\n",
       "      <th>6513</th>\n",
       "      <td>2023-04-03</td>\n",
       "      <td>102.300003</td>\n",
       "      <td>103.290001</td>\n",
       "      <td>101.430000</td>\n",
       "      <td>102.410004</td>\n",
       "      <td>102.410004</td>\n",
       "      <td>41135700</td>\n",
       "    </tr>\n",
       "    <tr>\n",
       "      <th>6514</th>\n",
       "      <td>2023-04-04</td>\n",
       "      <td>102.750000</td>\n",
       "      <td>104.199997</td>\n",
       "      <td>102.110001</td>\n",
       "      <td>103.949997</td>\n",
       "      <td>103.949997</td>\n",
       "      <td>48662500</td>\n",
       "    </tr>\n",
       "    <tr>\n",
       "      <th>6515</th>\n",
       "      <td>2023-04-05</td>\n",
       "      <td>103.910004</td>\n",
       "      <td>103.910004</td>\n",
       "      <td>100.750000</td>\n",
       "      <td>101.099998</td>\n",
       "      <td>101.099998</td>\n",
       "      <td>45103000</td>\n",
       "    </tr>\n",
       "  </tbody>\n",
       "</table>\n",
       "</div>"
      ],
      "text/plain": [
       "            Date        Open        High         Low       Close   Adj Close  \\\n",
       "6470  2023-01-31  101.160004  103.349998  101.139999  103.129997  103.129997   \n",
       "6471  2023-02-01  102.529999  106.239998  101.239998  105.150002  105.150002   \n",
       "6472  2023-02-02  110.250000  114.000000  108.879997  112.910004  112.910004   \n",
       "6473  2023-02-03  105.260002  108.779999  102.519997  103.389999  103.389999   \n",
       "6474  2023-02-06  102.930000  103.949997  100.650002  102.180000  102.180000   \n",
       "6511  2023-03-30  101.550003  103.040001  101.010002  102.000000  102.000000   \n",
       "6512  2023-03-31  102.160004  103.489998  101.949997  103.290001  103.290001   \n",
       "6513  2023-04-03  102.300003  103.290001  101.430000  102.410004  102.410004   \n",
       "6514  2023-04-04  102.750000  104.199997  102.110001  103.949997  103.949997   \n",
       "6515  2023-04-05  103.910004  103.910004  100.750000  101.099998  101.099998   \n",
       "\n",
       "         Volume  \n",
       "6470   66527300  \n",
       "6471   80450100  \n",
       "6472  158154200  \n",
       "6473  144374800  \n",
       "6474   81945200  \n",
       "6511   53633400  \n",
       "6512   56704300  \n",
       "6513   41135700  \n",
       "6514   48662500  \n",
       "6515   45103000  "
      ]
     },
     "execution_count": 42,
     "metadata": {},
     "output_type": "execute_result"
    }
   ],
   "source": [
    "c1 = cond = df['Date'].str.contains('2023')\n",
    "c2 = df['Open'] > 100\n",
    "c3 = df['Low'] > 100\n",
    "\n",
    "df.loc[c1 & c2 & c3].head(10)"
   ]
  },
  {
   "cell_type": "code",
   "execution_count": 60,
   "id": "5de807e1-880a-4f7b-9e9c-ade5a44002ee",
   "metadata": {},
   "outputs": [
    {
     "data": {
      "text/plain": [
       "0    0.000000\n",
       "1    0.000000\n",
       "2    0.088021\n",
       "3    0.086458\n",
       "4    0.081771\n",
       "5    0.071875\n",
       "6    0.070313\n",
       "7    0.075521\n",
       "8    0.081250\n",
       "9    0.077083\n",
       "Name: Open, dtype: float64"
      ]
     },
     "execution_count": 60,
     "metadata": {},
     "output_type": "execute_result"
    }
   ],
   "source": [
    "cond = df['Open'] < 0.09\n",
    "df['Open'].where(cond, 0).head(10)"
   ]
  },
  {
   "cell_type": "code",
   "execution_count": 62,
   "id": "016fbc99-9e06-4281-856d-e694343e2870",
   "metadata": {},
   "outputs": [
    {
     "data": {
      "text/plain": [
       "<Figure size 640x480 with 0 Axes>"
      ]
     },
     "execution_count": 62,
     "metadata": {},
     "output_type": "execute_result"
    },
    {
     "data": {
      "text/plain": [
       "<Figure size 640x480 with 0 Axes>"
      ]
     },
     "metadata": {},
     "output_type": "display_data"
    }
   ],
   "source": [
    "import matplotlib.pyplot as plt\n",
    "plt.figure()"
   ]
  },
  {
   "cell_type": "code",
   "execution_count": 66,
   "id": "e02c6bcf-3245-41e7-a6cb-9155c83fad8d",
   "metadata": {},
   "outputs": [],
   "source": [
    "##도식화 함수를 여기에 쓰지는 못하나??"
   ]
  },
  {
   "cell_type": "code",
   "execution_count": null,
   "id": "9a6dc8ae-0b7f-4132-8a82-254c1fe32b6f",
   "metadata": {},
   "outputs": [],
   "source": [
    "#plt.plot()\n",
    "#plt.show"
   ]
  }
 ],
 "metadata": {
  "kernelspec": {
   "display_name": "Python 3 (ipykernel)",
   "language": "python",
   "name": "python3"
  },
  "language_info": {
   "codemirror_mode": {
    "name": "ipython",
    "version": 3
   },
   "file_extension": ".py",
   "mimetype": "text/x-python",
   "name": "python",
   "nbconvert_exporter": "python",
   "pygments_lexer": "ipython3",
   "version": "3.12.4"
  }
 },
 "nbformat": 4,
 "nbformat_minor": 5
}
