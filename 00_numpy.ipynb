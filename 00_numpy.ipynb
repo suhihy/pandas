{
 "cells": [
  {
   "cell_type": "code",
   "execution_count": 1,
   "id": "64f073f7-5677-41cc-8f4e-e21f24873d45",
   "metadata": {},
   "outputs": [],
   "source": [
    "a1 = [1, 2, 3]     #리스트형 자료구조 중 -> 1차원 배열\n",
    "a2 = [             #리스트형 자료구조 중 -> 2차원 배열\n",
    "    [1, 2, 3], \n",
    "    [4, 5, 6],\n",
    "    [5, 6, 7],\n",
    "]\n",
    "a3 = [              #리스트형 자료구조 중 -> 3차원 배열\n",
    "    [[1, 2, 3], \n",
    "    [4, 5, 6],\n",
    "    [5, 6, 7],\n",
    "],            \n",
    "    [[1, 2, 3], \n",
    "    [4, 5, 6],\n",
    "    [5, 6, 7],\n",
    "],\n",
    "    [[1, 2, 3], \n",
    "    [4, 5, 6],\n",
    "    [5, 6, 7],\n",
    "]]\n",
    "\n",
    "\n",
    "#행렬의 곱셈 for문의 개수 n ** 2만큼 늘어남/ numpy는 더 빠르게 계산을 해줌 -> n차원의 행렬 곱셈 빠르게 해준다~ 주요 기능"
   ]
  },
  {
   "cell_type": "code",
   "execution_count": 2,
   "id": "ef7af34a-c7e0-49c0-b1ee-964b4e968f32",
   "metadata": {},
   "outputs": [],
   "source": [
    "import numpy as np #as - 이름 닉네임(별명) 만들어주기"
   ]
  },
  {
   "cell_type": "code",
   "execution_count": 4,
   "id": "1716644f-96f9-433e-8d7f-0f2853ebd9a9",
   "metadata": {},
   "outputs": [
    {
     "name": "stderr",
     "output_type": "stream",
     "text": [
      "IOPub data rate exceeded.\n",
      "The Jupyter server will temporarily stop sending output\n",
      "to the client in order to avoid crashing it.\n",
      "To change this limit, set the config variable\n",
      "`--ServerApp.iopub_data_rate_limit`.\n",
      "\n",
      "Current values:\n",
      "ServerApp.iopub_data_rate_limit=1000000.0 (bytes/sec)\n",
      "ServerApp.rate_limit_window=3.0 (secs)\n",
      "\n"
     ]
    }
   ],
   "source": [
    "my_arr = np.arange(10000000)   #arr - list 대신 numpy에서 많이 사용\n",
    "my_list = list(range(10000000))\n",
    "print(my_arr)\n",
    "print(my_list)"
   ]
  },
  {
   "cell_type": "code",
   "execution_count": 10,
   "id": "dd55bf83-a163-4fb1-a1a4-6200f10d2d61",
   "metadata": {},
   "outputs": [
    {
     "name": "stdout",
     "output_type": "stream",
     "text": [
      "17.6 ms ± 391 μs per loop (mean ± std. dev. of 7 runs, 100 loops each)\n",
      "434 ms ± 19.5 ms per loop (mean ± std. dev. of 7 runs, 1 loop each)\n"
     ]
    }
   ],
   "source": [
    "%timeit my_arr2 = my_arr * 2\n",
    "%timeit my_list2 = [x * 2 for x in my_list]"
   ]
  },
  {
   "cell_type": "code",
   "execution_count": 11,
   "id": "0195dc36-51a2-4c85-87a9-29231baa7627",
   "metadata": {},
   "outputs": [
    {
     "name": "stdout",
     "output_type": "stream",
     "text": [
      "[[   5.     1.1   -5. ]\n",
      " [ 123.  -123.     0. ]]\n"
     ]
    }
   ],
   "source": [
    "a = [\n",
    "    [5, 1.1, -5],\n",
    "    [123, -123, 0],\n",
    "]\n",
    "data = np.array(a)\n",
    "print(data)"
   ]
  },
  {
   "cell_type": "code",
   "execution_count": 12,
   "id": "c4c57fd1-937f-4398-b26f-05835618f3a5",
   "metadata": {},
   "outputs": [
    {
     "name": "stdout",
     "output_type": "stream",
     "text": [
      "[[   50.    11.   -50.]\n",
      " [ 1230. -1230.     0.]]\n"
     ]
    }
   ],
   "source": [
    "print(data * 10)"
   ]
  },
  {
   "cell_type": "code",
   "execution_count": 14,
   "id": "68aa39e5-4b8a-49ba-b0fc-943c9bf79caa",
   "metadata": {},
   "outputs": [
    {
     "name": "stdout",
     "output_type": "stream",
     "text": [
      "(2, 3)\n",
      "float64\n"
     ]
    }
   ],
   "source": [
    "print(data.shape)\n",
    "print(data.dtype)  #float64 => 64비트로 표현하는 소수"
   ]
  },
  {
   "cell_type": "markdown",
   "id": "7d15744b-bd28-4199-8581-d6410335ce9c",
   "metadata": {},
   "source": [
    "## 1.1 ndarray 생성\n",
    "n차원의 array"
   ]
  },
  {
   "cell_type": "code",
   "execution_count": 16,
   "id": "e560b43e-2cdc-4950-adfa-332f5fc0f1e6",
   "metadata": {},
   "outputs": [
    {
     "name": "stdout",
     "output_type": "stream",
     "text": [
      "[4.  5.  2.  8.  9.  5.2]\n"
     ]
    }
   ],
   "source": [
    "my_list = [4, 5, 2, 8, 9, 5.2]\n",
    "arr = np.array(my_list)\n",
    "print(arr)"
   ]
  },
  {
   "cell_type": "code",
   "execution_count": 17,
   "id": "f42d5a55-8904-4479-996f-d876a8a872ae",
   "metadata": {},
   "outputs": [
    {
     "name": "stdout",
     "output_type": "stream",
     "text": [
      "[[1 2 3 4]\n",
      " [5 6 7 8]]\n"
     ]
    }
   ],
   "source": [
    "my_list2 = [[1, 2, 3, 4], [5, 6, 7, 8]]\n",
    "arr2 = np.array(my_list2)\n",
    "print(arr2)"
   ]
  },
  {
   "cell_type": "code",
   "execution_count": 19,
   "id": "16a80a34-02e8-4a19-bf2c-0483b6add0a1",
   "metadata": {},
   "outputs": [
    {
     "name": "stdout",
     "output_type": "stream",
     "text": [
      "float64\n",
      "int64\n"
     ]
    }
   ],
   "source": [
    "print(arr.dtype)\n",
    "print(arr2.dtype)"
   ]
  },
  {
   "cell_type": "code",
   "execution_count": 20,
   "id": "8143ad26-b60a-4db8-9abc-4dbc21c2872d",
   "metadata": {},
   "outputs": [
    {
     "name": "stdout",
     "output_type": "stream",
     "text": [
      "1\n",
      "2\n"
     ]
    }
   ],
   "source": [
    "print(arr.ndim)\n",
    "print(arr2.ndim)"
   ]
  },
  {
   "cell_type": "code",
   "execution_count": 21,
   "id": "974ecee0-01c8-428f-9555-74d0def6d5cd",
   "metadata": {},
   "outputs": [
    {
     "name": "stdout",
     "output_type": "stream",
     "text": [
      "(6,)\n",
      "(2, 4)\n"
     ]
    }
   ],
   "source": [
    "print(arr.shape)\n",
    "print(arr2.shape)"
   ]
  },
  {
   "cell_type": "code",
   "execution_count": 23,
   "id": "49dd5d0d-d156-498f-9d9f-a5ffb0e4b519",
   "metadata": {},
   "outputs": [
    {
     "name": "stdout",
     "output_type": "stream",
     "text": [
      "[0. 0. 0. 0. 0. 0. 0. 0. 0. 0.]\n",
      "[[0. 0. 0. 0. 0.]\n",
      " [0. 0. 0. 0. 0.]\n",
      " [0. 0. 0. 0. 0.]\n",
      " [0. 0. 0. 0. 0.]\n",
      " [0. 0. 0. 0. 0.]]\n",
      "[[[ 1.21737165e-311  1.21736942e-311  1.21736942e-311  1.21736940e-311]\n",
      "  [ 1.21736940e-311  1.21736940e-311  1.21736940e-311  1.21736940e-311]\n",
      "  [ 1.21736940e-311  1.21736940e-311  1.21736940e-311 -3.05518780e-310]]\n",
      "\n",
      " [[ 0.00000000e+000  0.00000000e+000  0.00000000e+000  0.00000000e+000]\n",
      "  [ 0.00000000e+000  0.00000000e+000  0.00000000e+000  0.00000000e+000]\n",
      "  [ 0.00000000e+000  0.00000000e+000  0.00000000e+000  0.00000000e+000]]]\n"
     ]
    }
   ],
   "source": [
    "print(np.zeros(10))\n",
    "print(np.zeros((5, 5)))\n",
    "print(np.empty((2, 3, 4)))"
   ]
  },
  {
   "cell_type": "code",
   "execution_count": 24,
   "id": "57ebe096-4c13-4dc3-9509-161856b3b7b0",
   "metadata": {},
   "outputs": [
    {
     "name": "stdout",
     "output_type": "stream",
     "text": [
      "[ 0  1  2  3  4  5  6  7  8  9 10 11]\n"
     ]
    }
   ],
   "source": [
    "print(np.arange(12))"
   ]
  },
  {
   "cell_type": "markdown",
   "id": "d6029981-ed65-45c6-bfe3-07ed16d89ff4",
   "metadata": {},
   "source": [
    "## 1.2 자료형"
   ]
  },
  {
   "cell_type": "code",
   "execution_count": 26,
   "id": "ca332736-0a8b-4623-aa85-ef14aa792b42",
   "metadata": {},
   "outputs": [
    {
     "name": "stdout",
     "output_type": "stream",
     "text": [
      "float64\n",
      "int32\n"
     ]
    }
   ],
   "source": [
    "arr1 = np.array([1, 2, 3], dtype=np.float64)\n",
    "arr2 = np.array([1, 2, 3], dtype=np.int32)\n",
    "\n",
    "print(arr1.dtype)\n",
    "print(arr2.dtype)"
   ]
  },
  {
   "cell_type": "code",
   "execution_count": 29,
   "id": "e2f01991-7cfd-413e-a206-b803b83f5705",
   "metadata": {},
   "outputs": [
    {
     "name": "stdout",
     "output_type": "stream",
     "text": [
      "[1 2 3 4 5]\n",
      "[1. 2. 3. 4. 5.]\n",
      "float64\n"
     ]
    }
   ],
   "source": [
    "arr = np.array([1, 2, 3, 4, 5])\n",
    "print(arr)\n",
    "float_arr = arr.astype(np.float64)\n",
    "print(float_arr)\n",
    "print(float_arr.dtype)"
   ]
  },
  {
   "cell_type": "code",
   "execution_count": 31,
   "id": "dc21aed9-287e-4dfe-a240-57e5e49def1c",
   "metadata": {},
   "outputs": [
    {
     "name": "stdout",
     "output_type": "stream",
     "text": [
      "[ 1  2 -1 -4  3]\n"
     ]
    }
   ],
   "source": [
    "arr = np.array([1.2, 2.2, -1.1, -4,3])\n",
    "result = arr.astype(np.int32)\n",
    "print(result)"
   ]
  },
  {
   "cell_type": "code",
   "execution_count": 32,
   "id": "bdafe4b6-141e-401f-b3d9-b2a4e3dd9be4",
   "metadata": {},
   "outputs": [
    {
     "name": "stdout",
     "output_type": "stream",
     "text": [
      "[12 34 56]\n"
     ]
    }
   ],
   "source": [
    "result = np.array(['12', '34', '56'], dtype=np.int32)\n",
    "print(result)"
   ]
  },
  {
   "cell_type": "markdown",
   "id": "e8a154a1-86f7-4c58-915d-7122a7344beb",
   "metadata": {},
   "source": [
    "## 1.3 연산"
   ]
  },
  {
   "cell_type": "code",
   "execution_count": 33,
   "id": "3170f1b1-f90d-419e-a100-9ca332c59660",
   "metadata": {},
   "outputs": [
    {
     "name": "stdout",
     "output_type": "stream",
     "text": [
      "[[1 2 3]\n",
      " [4 5 6]]\n"
     ]
    }
   ],
   "source": [
    "a = [\n",
    "    [1, 2, 3],\n",
    "    [4, 5, 6],\n",
    "]\n",
    "arr = np.array(a)\n",
    "print(arr)"
   ]
  },
  {
   "cell_type": "code",
   "execution_count": 34,
   "id": "7549b943-f95f-4a47-a1c3-64d260e98131",
   "metadata": {},
   "outputs": [
    {
     "name": "stdout",
     "output_type": "stream",
     "text": [
      "[[ 2  4  6]\n",
      " [ 8 10 12]]\n"
     ]
    }
   ],
   "source": [
    "print(arr + arr) #동일한 위치에 있는 값 +"
   ]
  },
  {
   "cell_type": "code",
   "execution_count": 35,
   "id": "8a27163e-3ddc-406c-927f-fc796357d77e",
   "metadata": {},
   "outputs": [
    {
     "name": "stdout",
     "output_type": "stream",
     "text": [
      "[[0 0 0]\n",
      " [0 0 0]]\n"
     ]
    }
   ],
   "source": [
    "print(arr - arr)"
   ]
  },
  {
   "cell_type": "code",
   "execution_count": 37,
   "id": "1ecd1b59-f4b4-4919-a98f-56b213835535",
   "metadata": {},
   "outputs": [
    {
     "name": "stdout",
     "output_type": "stream",
     "text": [
      "[[0.1 0.2 0.3]\n",
      " [0.4 0.5 0.6]]\n",
      "[[ 1  4  9]\n",
      " [16 25 36]]\n"
     ]
    }
   ],
   "source": [
    "print(arr / 10) #각 요소 / 10 - 전체 데이터에 똑같은 값 연산\n",
    "print(arr ** 2)"
   ]
  },
  {
   "cell_type": "code",
   "execution_count": 38,
   "id": "71f53fae-3ca2-46f0-aff1-475a9c15f09d",
   "metadata": {},
   "outputs": [
    {
     "name": "stdout",
     "output_type": "stream",
     "text": [
      "[[1 2 3]\n",
      " [4 5 6]]\n",
      "[[3 2 1]\n",
      " [6 5 4]]\n"
     ]
    }
   ],
   "source": [
    "b = [\n",
    "    [3, 2, 1],\n",
    "    [6, 5, 4],\n",
    "]\n",
    "\n",
    "arr2 = np.array(b)\n",
    "\n",
    "print(arr)\n",
    "print(arr2)"
   ]
  },
  {
   "cell_type": "code",
   "execution_count": 39,
   "id": "9503c48d-4c9d-4812-982b-8c158a54c903",
   "metadata": {},
   "outputs": [
    {
     "name": "stdout",
     "output_type": "stream",
     "text": [
      "[[False False  True]\n",
      " [False False  True]]\n"
     ]
    }
   ],
   "source": [
    "print(arr > arr2)   #비교 연산"
   ]
  },
  {
   "cell_type": "markdown",
   "id": "f7f42746-1196-45fb-ae3a-daebfc2e5081",
   "metadata": {},
   "source": [
    "## 1.4 인덱싱, 슬라이싱"
   ]
  },
  {
   "cell_type": "code",
   "execution_count": 44,
   "id": "aa9851d1-5e5f-4187-97ca-80a429c8fba7",
   "metadata": {},
   "outputs": [
    {
     "name": "stdout",
     "output_type": "stream",
     "text": [
      "[0 1 2 3 4 5 6 7 8 9]\n",
      "5\n",
      "[3 4 5]\n"
     ]
    }
   ],
   "source": [
    "arr = np.arange(10)\n",
    "print(arr)\n",
    "print(arr[5])\n",
    "print(arr[3:6]) #슬라이싱 - 범위가 데이터 자체가 됨"
   ]
  },
  {
   "cell_type": "code",
   "execution_count": 46,
   "id": "2b2b395d-76f4-45d3-8c2a-0a7f40d307f2",
   "metadata": {},
   "outputs": [
    {
     "name": "stdout",
     "output_type": "stream",
     "text": [
      "[ 0  1  2 99 99 99  6  7  8  9]\n"
     ]
    }
   ],
   "source": [
    "arr[3:6] = 99     #numpy - 원본 데이터 가지고 있음\n",
    "print(arr)"
   ]
  },
  {
   "cell_type": "code",
   "execution_count": 48,
   "id": "a7ad79b3-f181-4822-ad74-3f71603809b7",
   "metadata": {},
   "outputs": [
    {
     "name": "stdout",
     "output_type": "stream",
     "text": [
      "[99 99 99]\n"
     ]
    }
   ],
   "source": [
    "slice_arr = arr[3:6]\n",
    "print(slice_arr)"
   ]
  },
  {
   "cell_type": "code",
   "execution_count": 49,
   "id": "96790d4d-eac7-45fa-9c5b-c943a5443e50",
   "metadata": {},
   "outputs": [
    {
     "name": "stdout",
     "output_type": "stream",
     "text": [
      "[99 55 99]\n",
      "[ 0  1  2 99 55 99  6  7  8  9]\n"
     ]
    }
   ],
   "source": [
    "slice_arr[1] = 55\n",
    "print(slice_arr)\n",
    "print(arr)"
   ]
  },
  {
   "cell_type": "code",
   "execution_count": 50,
   "id": "3836f455-f5f8-4706-9958-8bb0e3d664d3",
   "metadata": {},
   "outputs": [
    {
     "name": "stdout",
     "output_type": "stream",
     "text": [
      "[  0   1   2 100 100 100   6   7   8   9]\n"
     ]
    }
   ],
   "source": [
    "slice_arr[:] = 100  #-> 처음부터 끝까지\n",
    "print(arr)"
   ]
  },
  {
   "cell_type": "code",
   "execution_count": 52,
   "id": "46fa536e-4049-466e-b27c-d15167289490",
   "metadata": {},
   "outputs": [],
   "source": [
    "a = [\n",
    "    [1, 2, 3],\n",
    "    [4, 5, 6],\n",
    "    [7, 8, 9]\n",
    "]\n",
    "arr = np.array(a)"
   ]
  },
  {
   "cell_type": "code",
   "execution_count": 53,
   "id": "a348c256-3493-4660-8d2d-26f9e643303b",
   "metadata": {},
   "outputs": [
    {
     "name": "stdout",
     "output_type": "stream",
     "text": [
      "[4 5 6]\n"
     ]
    }
   ],
   "source": [
    "print(arr[1])"
   ]
  },
  {
   "cell_type": "code",
   "execution_count": 56,
   "id": "c58c5bbb-6135-44c4-ab60-ef66532e74c6",
   "metadata": {},
   "outputs": [
    {
     "name": "stdout",
     "output_type": "stream",
     "text": [
      "5\n",
      "5\n"
     ]
    }
   ],
   "source": [
    "print(arr[1][1])\n",
    "print(arr[1, 1])"
   ]
  },
  {
   "cell_type": "code",
   "execution_count": 57,
   "id": "dd0fae97-95d5-4fb7-9708-82e68c33ee7c",
   "metadata": {},
   "outputs": [],
   "source": [
    "a = [\n",
    "    [\n",
    "        [1, 2, 3],\n",
    "        [4, 5, 6]\n",
    "    ],\n",
    "    [\n",
    "        [7, 8, 9],\n",
    "        [10, 11, 12]\n",
    "    ]\n",
    "]\n",
    "\n",
    "arr = np.array(a)"
   ]
  },
  {
   "cell_type": "code",
   "execution_count": 59,
   "id": "f38d6cdf-1d2e-464d-92e7-c2e86afc6d6f",
   "metadata": {},
   "outputs": [
    {
     "name": "stdout",
     "output_type": "stream",
     "text": [
      "[[[ 1  2  3]\n",
      "  [ 4  5  6]]\n",
      "\n",
      " [[ 7  8  9]\n",
      "  [10 11 12]]]\n"
     ]
    }
   ],
   "source": [
    "print(arr)"
   ]
  },
  {
   "cell_type": "code",
   "execution_count": 60,
   "id": "6f0d59d8-e454-467d-a362-87758da68e04",
   "metadata": {},
   "outputs": [
    {
     "name": "stdout",
     "output_type": "stream",
     "text": [
      "[[1 2 3]\n",
      " [4 5 6]]\n"
     ]
    }
   ],
   "source": [
    "print(arr[0])"
   ]
  },
  {
   "cell_type": "code",
   "execution_count": 64,
   "id": "60854ff8-b3ef-485f-b511-5371856f2e07",
   "metadata": {},
   "outputs": [
    {
     "name": "stdout",
     "output_type": "stream",
     "text": [
      "[4 5 6]\n",
      "[4 5 6]\n",
      "6\n"
     ]
    }
   ],
   "source": [
    "print(arr[0, 1])\n",
    "print(arr[0][1])\n",
    "print(arr[0, 1, 2])"
   ]
  },
  {
   "cell_type": "code",
   "execution_count": 68,
   "id": "c50467a7-b972-431e-bbb1-399e0ce733bd",
   "metadata": {},
   "outputs": [
    {
     "data": {
      "text/plain": [
       "array([1, 2, 3, 4, 5, 6, 7, 8, 9])"
      ]
     },
     "execution_count": 68,
     "metadata": {},
     "output_type": "execute_result"
    }
   ],
   "source": [
    "arr = np.arange(10)\n",
    "arr[1:6]\n",
    "arr[1:]"
   ]
  },
  {
   "cell_type": "code",
   "execution_count": 71,
   "id": "eb0dd469-d318-4d3c-a874-365fac907e37",
   "metadata": {},
   "outputs": [
    {
     "data": {
      "text/plain": [
       "array([[0, 1, 2],\n",
       "       [3, 4, 5]])"
      ]
     },
     "execution_count": 71,
     "metadata": {},
     "output_type": "execute_result"
    }
   ],
   "source": [
    "arr2d = np.arange(9).reshape(3, 3)\n",
    "arr2d[:2] #-> 0번째, 1번째만 출력"
   ]
  },
  {
   "cell_type": "code",
   "execution_count": 73,
   "id": "1f89e999-4821-4c8e-ba28-c6acafc6d8e2",
   "metadata": {},
   "outputs": [
    {
     "name": "stdout",
     "output_type": "stream",
     "text": [
      "[[0 1 2]\n",
      " [3 4 5]\n",
      " [6 7 8]]\n"
     ]
    },
    {
     "data": {
      "text/plain": [
       "array([[1, 2],\n",
       "       [4, 5]])"
      ]
     },
     "execution_count": 73,
     "metadata": {},
     "output_type": "execute_result"
    }
   ],
   "source": [
    "print(arr2d)\n",
    "arr2d[:2, 1:]"
   ]
  },
  {
   "cell_type": "code",
   "execution_count": 75,
   "id": "5cba0483-04b1-43c8-b47b-1adfeafc7bc5",
   "metadata": {},
   "outputs": [
    {
     "data": {
      "text/plain": [
       "array([[0],\n",
       "       [3],\n",
       "       [6]])"
      ]
     },
     "execution_count": 75,
     "metadata": {},
     "output_type": "execute_result"
    }
   ],
   "source": [
    "arr2d[:, :1]"
   ]
  },
  {
   "cell_type": "code",
   "execution_count": 77,
   "id": "dd1972df-217f-47ae-9954-0637c61b08ad",
   "metadata": {},
   "outputs": [
    {
     "name": "stdout",
     "output_type": "stream",
     "text": [
      "[[99  1  2]\n",
      " [99  4  5]\n",
      " [99  7  8]]\n"
     ]
    }
   ],
   "source": [
    "arr2d[:, :1] = 99\n",
    "print(arr2d)"
   ]
  },
  {
   "cell_type": "markdown",
   "id": "2f560780-4477-4087-be2a-6cca13dcf26a",
   "metadata": {},
   "source": [
    "## bool 값으로 선택"
   ]
  },
  {
   "cell_type": "code",
   "execution_count": 81,
   "id": "c067d5d0-458e-49df-aa9e-55c6fb66d46e",
   "metadata": {},
   "outputs": [],
   "source": [
    "names = ['hong', 'kim', 'park', 'kim']\n",
    "scores = [\n",
    "    ['수학', 70],\n",
    "    ['영어', 80],\n",
    "    ['수학', 100],\n",
    "    ['수학', 90],\n",
    "]"
   ]
  },
  {
   "cell_type": "code",
   "execution_count": 82,
   "id": "e8a9c169-0df3-4149-a50b-0f1f41eb405f",
   "metadata": {},
   "outputs": [],
   "source": [
    "names_arr = np.array(names)\n",
    "scores_arr = np.array(scores)"
   ]
  },
  {
   "cell_type": "code",
   "execution_count": 83,
   "id": "4c17b0df-9c85-4bbf-806b-05b66ee298a7",
   "metadata": {},
   "outputs": [
    {
     "name": "stdout",
     "output_type": "stream",
     "text": [
      "['hong' 'kim' 'park' 'kim']\n",
      "[['수학' '70']\n",
      " ['영어' '80']\n",
      " ['수학' '100']\n",
      " ['수학' '90']]\n"
     ]
    }
   ],
   "source": [
    "print(names_arr)\n",
    "print(scores_arr)"
   ]
  },
  {
   "cell_type": "code",
   "execution_count": 85,
   "id": "67b87eaa-52f1-4e6f-8f5d-9c0310df0c2f",
   "metadata": {},
   "outputs": [
    {
     "data": {
      "text/plain": [
       "array([False, False,  True, False])"
      ]
     },
     "execution_count": 85,
     "metadata": {},
     "output_type": "execute_result"
    }
   ],
   "source": [
    "names_arr == 'park'"
   ]
  },
  {
   "cell_type": "code",
   "execution_count": 86,
   "id": "997d948e-76f5-4782-aa3c-1ac4d757ba03",
   "metadata": {},
   "outputs": [
    {
     "data": {
      "text/plain": [
       "array([['수학', '100']], dtype='<U21')"
      ]
     },
     "execution_count": 86,
     "metadata": {},
     "output_type": "execute_result"
    }
   ],
   "source": [
    "scores_arr[names_arr == 'park']"
   ]
  },
  {
   "cell_type": "code",
   "execution_count": 88,
   "id": "e3df8536-407c-479a-9728-17e2f7684337",
   "metadata": {},
   "outputs": [
    {
     "data": {
      "text/plain": [
       "array([['80'],\n",
       "       ['90']], dtype='<U21')"
      ]
     },
     "execution_count": 88,
     "metadata": {},
     "output_type": "execute_result"
    }
   ],
   "source": [
    "scores_arr[names_arr == 'kim', 1:]"
   ]
  },
  {
   "cell_type": "code",
   "execution_count": 91,
   "id": "42a25797-98f9-4603-83ba-2b9d160553f3",
   "metadata": {},
   "outputs": [
    {
     "data": {
      "text/plain": [
       "array(['80', '90'], dtype='<U21')"
      ]
     },
     "execution_count": 91,
     "metadata": {},
     "output_type": "execute_result"
    }
   ],
   "source": [
    "scores_arr[names_arr == 'kim', 1] #슬라이스 - 2차원/ 숫자 - 1차원"
   ]
  },
  {
   "cell_type": "code",
   "execution_count": 94,
   "id": "1ddb2d1e-ab05-42be-868b-9cae89bae0d6",
   "metadata": {},
   "outputs": [
    {
     "name": "stdout",
     "output_type": "stream",
     "text": [
      "[ True False  True False]\n",
      "[ True False  True False]\n"
     ]
    }
   ],
   "source": [
    "print(names_arr != 'kim')\n",
    "print(~(names_arr == 'kim')) # ~ = not"
   ]
  },
  {
   "cell_type": "code",
   "execution_count": 96,
   "id": "f2c0b46a-aa53-4033-bdb1-bc2b99a3c38e",
   "metadata": {},
   "outputs": [
    {
     "data": {
      "text/plain": [
       "array([['수학', '70']], dtype='<U21')"
      ]
     },
     "execution_count": 96,
     "metadata": {},
     "output_type": "execute_result"
    }
   ],
   "source": [
    "cond = names_arr == 'hong'  #condition에 저장하고 사용하는게 일반적\n",
    "scores_arr[cond]"
   ]
  },
  {
   "cell_type": "code",
   "execution_count": 101,
   "id": "230d82c4-cdd1-49ac-9fcc-bdc0c903fe54",
   "metadata": {},
   "outputs": [
    {
     "data": {
      "text/plain": [
       "array([['영어', '80'],\n",
       "       ['수학', '100'],\n",
       "       ['수학', '90']], dtype='<U21')"
      ]
     },
     "execution_count": 101,
     "metadata": {},
     "output_type": "execute_result"
    }
   ],
   "source": [
    "cond = (names_arr == 'kim') | (names_arr == 'park') # | = &\n",
    "scores_arr[cond]"
   ]
  },
  {
   "cell_type": "markdown",
   "id": "f004b50d-185c-44b4-87a8-719370f20fda",
   "metadata": {},
   "source": [
    "## 1.6 팬시 인덱싱(fancy indexing"
   ]
  },
  {
   "cell_type": "code",
   "execution_count": 109,
   "id": "a15e3f0f-4b46-4a45-aeb0-30ae29293fa6",
   "metadata": {},
   "outputs": [],
   "source": [
    "arr = np.arange(32).reshape(8, 4)"
   ]
  },
  {
   "cell_type": "code",
   "execution_count": 110,
   "id": "30097467-43ea-4801-9c91-9c8e306ab2a0",
   "metadata": {},
   "outputs": [
    {
     "name": "stdout",
     "output_type": "stream",
     "text": [
      "[[ 0  1  2  3]\n",
      " [ 4  5  6  7]\n",
      " [ 8  9 10 11]\n",
      " [12 13 14 15]\n",
      " [16 17 18 19]\n",
      " [20 21 22 23]\n",
      " [24 25 26 27]\n",
      " [28 29 30 31]]\n"
     ]
    }
   ],
   "source": [
    "print(arr)"
   ]
  },
  {
   "cell_type": "code",
   "execution_count": 116,
   "id": "f7db51b9-6c9e-4b8f-a67b-d11f0358353d",
   "metadata": {},
   "outputs": [
    {
     "name": "stdout",
     "output_type": "stream",
     "text": [
      "[[ 4  5  6  7]\n",
      " [12 13 14 15]\n",
      " [ 8  9 10 11]\n",
      " [ 4  5  6  7]\n",
      " [24 25 26 27]]\n"
     ]
    }
   ],
   "source": [
    "print(arr[[1, 3, 2, 1, 6]]) #순서와 무관하게 여러 개의 데이터 출력하고 싶을 때 [[]] 사용"
   ]
  },
  {
   "cell_type": "code",
   "execution_count": 117,
   "id": "d395deb8-9eb4-4f83-b40c-ebdadafccd70",
   "metadata": {},
   "outputs": [
    {
     "name": "stdout",
     "output_type": "stream",
     "text": [
      "[[20 21 22 23]\n",
      " [28 29 30 31]]\n"
     ]
    }
   ],
   "source": [
    "print(arr[[-3, -1]])"
   ]
  },
  {
   "cell_type": "code",
   "execution_count": 122,
   "id": "8984f55b-93e6-46f7-993e-8592845ae026",
   "metadata": {},
   "outputs": [
    {
     "name": "stdout",
     "output_type": "stream",
     "text": [
      "[[ 0  1  2  3]\n",
      " [ 4 99  6  7]\n",
      " [ 8  9 99 11]\n",
      " [12 13 14 99]\n",
      " [16 17 18 19]\n",
      " [20 21 22 23]\n",
      " [24 25 26 27]\n",
      " [28 29 30 31]]\n"
     ]
    }
   ],
   "source": [
    "arr[[3, 2, 1],[3, 2, 1]] = 99\n",
    "print(arr)"
   ]
  },
  {
   "cell_type": "markdown",
   "id": "a9fab113-7a41-422e-b751-e8f6b12e7f67",
   "metadata": {},
   "source": [
    "## 1.7 전치"
   ]
  },
  {
   "cell_type": "code",
   "execution_count": 123,
   "id": "254ed584-f83a-4563-999f-09aee8f958ec",
   "metadata": {},
   "outputs": [],
   "source": [
    "arr = np.arange(15).reshape(3, 5)"
   ]
  },
  {
   "cell_type": "code",
   "execution_count": 124,
   "id": "e14b3d57-9aa1-4da0-8885-d4f4fea9410b",
   "metadata": {},
   "outputs": [
    {
     "name": "stdout",
     "output_type": "stream",
     "text": [
      "[[ 0  1  2  3  4]\n",
      " [ 5  6  7  8  9]\n",
      " [10 11 12 13 14]]\n"
     ]
    }
   ],
   "source": [
    "print(arr)"
   ]
  },
  {
   "cell_type": "code",
   "execution_count": 125,
   "id": "7ce40ea3-41bb-4735-b87e-432d9dfc9e47",
   "metadata": {},
   "outputs": [
    {
     "name": "stdout",
     "output_type": "stream",
     "text": [
      "[[ 0  5 10]\n",
      " [ 1  6 11]\n",
      " [ 2  7 12]\n",
      " [ 3  8 13]\n",
      " [ 4  9 14]]\n"
     ]
    }
   ],
   "source": [
    "#전치 = 선대칭\n",
    "print(arr.T)"
   ]
  },
  {
   "cell_type": "code",
   "execution_count": 129,
   "id": "38a40f37-8c0d-41b5-b8d5-380deed83338",
   "metadata": {},
   "outputs": [
    {
     "name": "stdout",
     "output_type": "stream",
     "text": [
      "[[ 30  80 130]\n",
      " [ 80 255 430]\n",
      " [130 430 730]]\n",
      "[[ 30  80 130]\n",
      " [ 80 255 430]\n",
      " [130 430 730]]\n"
     ]
    }
   ],
   "source": [
    "print(np.dot(arr, arr.T)) #행렬의 곱(행렬의 내적)\n",
    "\n",
    "print(arr @ arr.T)"
   ]
  },
  {
   "cell_type": "markdown",
   "id": "6b358f12-e8bf-41f4-a6da-5f78a04407dd",
   "metadata": {},
   "source": [
    "## 난수 생성"
   ]
  },
  {
   "cell_type": "code",
   "execution_count": 130,
   "id": "51c8501c-5c6a-4f56-b862-987958bd6d3f",
   "metadata": {},
   "outputs": [
    {
     "name": "stdout",
     "output_type": "stream",
     "text": [
      "[[-0.41857683  0.86265029 -0.13488017 -0.9751303 ]\n",
      " [ 0.58891625  1.58569704  1.07186288 -0.03997951]\n",
      " [ 0.63535387 -1.06375685  1.06070821  0.3634858 ]\n",
      " [ 0.37460676  1.31765077 -1.1915818  -0.59997574]]\n"
     ]
    }
   ],
   "source": [
    "sample = np.random.standard_normal(size=(4,4))\n",
    "print(sample)"
   ]
  },
  {
   "cell_type": "code",
   "execution_count": 133,
   "id": "5905c56c-0338-4741-bba4-7cc53f5ed3ee",
   "metadata": {},
   "outputs": [
    {
     "name": "stdout",
     "output_type": "stream",
     "text": [
      "[[       nan 0.92878969        nan        nan]\n",
      " [0.76740879 1.25924463 1.03530811        nan]\n",
      " [0.79709088        nan 1.0299069  0.60289784]\n",
      " [0.61205127 1.1478897         nan        nan]]\n"
     ]
    },
    {
     "name": "stderr",
     "output_type": "stream",
     "text": [
      "C:\\Users\\2-15\\AppData\\Local\\Temp\\ipykernel_13060\\409050305.py:1: RuntimeWarning: invalid value encountered in sqrt\n",
      "  print(np.sqrt(sample))    #루트 씌우는 함수/ 음수는 루트 씌울 수 없어 nan(not a number)\n"
     ]
    }
   ],
   "source": [
    "print(np.sqrt(sample))    #루트 씌우는 함수/ 음수는 루트 씌울 수 없어 nan(not a number)"
   ]
  },
  {
   "cell_type": "code",
   "execution_count": 135,
   "id": "f1f80a37-489d-45df-8b5c-73af941e177e",
   "metadata": {},
   "outputs": [
    {
     "name": "stdout",
     "output_type": "stream",
     "text": [
      "[[0.41857683 0.86265029 0.13488017 0.9751303 ]\n",
      " [0.58891625 1.58569704 1.07186288 0.03997951]\n",
      " [0.63535387 1.06375685 1.06070821 0.3634858 ]\n",
      " [0.37460676 1.31765077 1.1915818  0.59997574]]\n"
     ]
    }
   ],
   "source": [
    "print(np.abs(sample)) #음수 데이터 다 양수로 바꿔줌"
   ]
  },
  {
   "cell_type": "code",
   "execution_count": 139,
   "id": "b8c7b00c-3799-4e74-9327-dae7de7d8bdb",
   "metadata": {},
   "outputs": [
    {
     "name": "stderr",
     "output_type": "stream",
     "text": [
      "C:\\Users\\2-15\\AppData\\Local\\Temp\\ipykernel_13060\\3568132141.py:1: RuntimeWarning: invalid value encountered in sqrt\n",
      "  np.isnan(np.sqrt(sample)) #isnan -> nan이면 true 처리\n"
     ]
    },
    {
     "data": {
      "text/plain": [
       "array([[ True, False,  True,  True],\n",
       "       [False, False, False,  True],\n",
       "       [False,  True, False, False],\n",
       "       [False, False,  True,  True]])"
      ]
     },
     "execution_count": 139,
     "metadata": {},
     "output_type": "execute_result"
    }
   ],
   "source": [
    "np.isnan(np.sqrt(sample)) #isnan -> nan이면 true 처리"
   ]
  },
  {
   "cell_type": "code",
   "execution_count": 140,
   "id": "69619409-eaf3-4c25-957a-1528d6b701e6",
   "metadata": {},
   "outputs": [],
   "source": [
    "import random"
   ]
  },
  {
   "cell_type": "code",
   "execution_count": 144,
   "id": "357f85b1-683a-4573-be3e-41a584fd9cc0",
   "metadata": {},
   "outputs": [
    {
     "name": "stdout",
     "output_type": "stream",
     "text": [
      "[ 0 -1  0 ... 30 31 30]\n"
     ]
    }
   ],
   "source": [
    "position = 0\n",
    "walk = [position]\n",
    "nsteps = 1000\n",
    "for i in range(nsteps):\n",
    "    step = 1 if random.randint(0, 1) else -1\n",
    "    position += step\n",
    "    walk.append(position)\n",
    "\n",
    "walk_arr = np.array(walk)\n",
    "print(walk_arr)"
   ]
  },
  {
   "cell_type": "code",
   "execution_count": 145,
   "id": "eb2bd698-1fa6-4e7e-9258-7c097749965a",
   "metadata": {
    "scrolled": true
   },
   "outputs": [
    {
     "name": "stdout",
     "output_type": "stream",
     "text": [
      "[0, -1, 0, 1, 2, 1, 0, 1, 0, 1, 2, 3, 2, 1, 0, 1, 0, 1, 2, 1, 2, 3, 2, 3, 2, 3, 2, 1, 2, 3, 4, 5, 4, 3, 4, 5, 4, 3, 4, 5, 4, 5, 6, 5, 6, 5, 6, 5, 4, 5, 6, 5, 6, 5, 6, 5, 4, 5, 4, 3, 2, 3, 2, 3, 4, 3, 4, 5, 6, 7, 8, 7, 6, 7, 8, 9, 8, 7, 6, 7, 8, 7, 8, 9, 8, 7, 6, 7, 8, 7, 8, 7, 6, 5, 4, 3, 2, 1, 0, -1, -2, -3, -4, -5, -4, -3, -4, -3, -4, -3, -2, -1, 0, 1, 2, 3, 2, 3, 2, 3, 2, 1, 2, 1, 0, 1, 2, 1, 0, -1, -2, -1, -2, -1, -2, -1, 0, -1, -2, -3, -4, -5, -4, -5, -4, -5, -6, -7, -6, -7, -6, -7, -6, -7, -8, -9, -10, -9, -10, -9, -8, -9, -8, -9, -10, -9, -8, -7, -6, -5, -6, -7, -6, -5, -4, -3, -2, -3, -2, -1, -2, -3, -4, -3, -4, -5, -6, -7, -6, -5, -4, -5, -4, -5, -6, -5, -6, -7, -8, -9, -10, -11, -12, -13, -14, -15, -14, -15, -14, -15, -14, -15, -14, -15, -14, -15, -16, -15, -16, -15, -16, -15, -16, -15, -14, -13, -14, -15, -14, -13, -12, -11, -12, -13, -12, -13, -12, -11, -12, -13, -14, -15, -16, -15, -16, -15, -14, -13, -12, -11, -12, -13, -14, -15, -16, -17, -18, -17, -16, -15, -14, -15, -16, -17, -18, -19, -20, -19, -18, -17, -16, -17, -18, -19, -18, -19, -18, -17, -18, -17, -16, -15, -14, -15, -16, -17, -16, -17, -16, -15, -16, -15, -14, -13, -12, -13, -14, -13, -14, -13, -14, -13, -14, -13, -14, -15, -14, -13, -12, -11, -10, -9, -10, -9, -8, -7, -6, -7, -8, -7, -6, -5, -4, -5, -6, -7, -6, -5, -6, -7, -8, -9, -10, -9, -8, -7, -8, -7, -8, -7, -6, -7, -6, -5, -4, -3, -2, -1, -2, -3, -4, -3, -2, -1, -2, -1, -2, -3, -4, -3, -4, -5, -6, -7, -8, -7, -6, -5, -4, -5, -4, -5, -4, -5, -4, -5, -6, -5, -6, -7, -6, -7, -6, -5, -4, -5, -6, -5, -6, -7, -6, -7, -6, -7, -6, -7, -8, -7, -8, -7, -6, -5, -6, -5, -4, -5, -4, -5, -4, -3, -4, -3, -2, -3, -2, -1, 0, -1, -2, -3, -4, -5, -6, -5, -6, -5, -6, -5, -4, -5, -4, -5, -4, -5, -6, -5, -6, -7, -6, -5, -6, -5, -6, -5, -4, -5, -6, -7, -6, -7, -6, -5, -4, -5, -6, -7, -6, -5, -4, -5, -4, -5, -4, -5, -6, -5, -6, -5, -6, -5, -4, -5, -4, -3, -2, -1, 0, 1, 0, -1, -2, -1, 0, 1, 0, -1, -2, -3, -4, -5, -4, -3, -2, -3, -2, -1, -2, -3, -4, -3, -4, -3, -2, -1, 0, 1, 2, 1, 2, 1, 2, 1, 0, -1, -2, -1, 0, -1, -2, -1, 0, -1, 0, -1, 0, 1, 2, 1, 2, 3, 2, 1, 0, 1, 2, 1, 2, 1, 2, 3, 4, 3, 4, 5, 6, 5, 6, 7, 8, 7, 8, 7, 8, 7, 8, 7, 8, 9, 8, 7, 8, 7, 8, 9, 8, 9, 10, 9, 10, 11, 12, 11, 12, 11, 10, 11, 10, 9, 8, 9, 10, 9, 10, 9, 8, 9, 10, 9, 10, 9, 10, 9, 10, 9, 8, 9, 8, 9, 10, 9, 8, 7, 8, 9, 10, 11, 12, 13, 14, 15, 14, 13, 12, 11, 10, 11, 12, 11, 10, 11, 10, 11, 12, 13, 14, 15, 16, 15, 14, 15, 14, 15, 14, 13, 12, 13, 14, 13, 14, 13, 12, 13, 14, 15, 16, 15, 16, 17, 18, 19, 20, 21, 22, 21, 20, 19, 20, 19, 18, 19, 18, 19, 20, 21, 20, 19, 20, 19, 20, 19, 18, 17, 18, 19, 20, 19, 18, 19, 20, 19, 18, 19, 18, 19, 18, 17, 16, 15, 16, 17, 16, 17, 18, 19, 18, 19, 18, 19, 20, 21, 22, 23, 22, 21, 22, 23, 22, 23, 24, 25, 26, 27, 28, 27, 26, 25, 24, 25, 26, 27, 26, 27, 28, 27, 26, 27, 28, 29, 30, 29, 28, 29, 30, 31, 30, 31, 30, 31, 32, 31, 30, 31, 30, 29, 30, 29, 28, 27, 28, 27, 28, 27, 26, 27, 26, 27, 26, 25, 26, 25, 24, 25, 24, 23, 24, 23, 22, 23, 22, 23, 24, 25, 24, 23, 22, 21, 22, 23, 22, 21, 20, 19, 20, 21, 22, 21, 22, 23, 24, 23, 24, 23, 22, 23, 22, 21, 22, 21, 20, 19, 18, 17, 16, 17, 18, 17, 18, 17, 18, 17, 16, 17, 16, 17, 18, 19, 18, 19, 20, 21, 22, 23, 22, 21, 20, 21, 22, 23, 24, 23, 24, 25, 26, 27, 28, 29, 30, 29, 30, 31, 30, 29, 28, 27, 28, 27, 28, 29, 28, 29, 28, 29, 30, 29, 28, 27, 26, 27, 26, 25, 26, 27, 26, 25, 26, 27, 28, 29, 28, 27, 28, 29, 28, 27, 28, 27, 28, 27, 28, 27, 28, 29, 28, 27, 26, 25, 24, 25, 26, 27, 28, 29, 28, 29, 30, 31, 30, 31, 30, 31, 32, 31, 32, 31, 30, 31, 32, 31, 32, 31, 30, 29, 28, 29, 28, 27, 26, 25, 26, 27, 26, 25, 26, 27, 26, 27, 28, 29, 30, 31, 30, 29, 30, 29, 30, 29, 28, 29, 28, 27, 28, 27, 28, 27, 26, 27, 28, 29, 28, 27, 28, 29, 28, 29, 30, 29, 30, 31, 30, 31, 30, 29, 30, 29, 28, 27, 28, 27, 28, 29, 28, 29, 28, 29, 30, 31, 32, 33, 32, 31, 30, 31, 32, 33, 34, 33, 32, 31, 30, 31, 30, 29, 30, 31, 32, 33, 32, 31, 30, 31, 30]\n"
     ]
    }
   ],
   "source": [
    "print(walk)"
   ]
  },
  {
   "cell_type": "code",
   "execution_count": 146,
   "id": "71b29485-46dd-4363-bac9-1ae2967b1b64",
   "metadata": {},
   "outputs": [],
   "source": [
    "#matplotlib -> 도식화\n",
    "\n",
    "import matplotlib.pyplot as plt"
   ]
  },
  {
   "cell_type": "code",
   "execution_count": 147,
   "id": "6959f167-4588-473b-a63e-cd0daa5907bc",
   "metadata": {},
   "outputs": [
    {
     "data": {
      "text/plain": [
       "<Figure size 640x480 with 0 Axes>"
      ]
     },
     "execution_count": 147,
     "metadata": {},
     "output_type": "execute_result"
    },
    {
     "data": {
      "text/plain": [
       "<Figure size 640x480 with 0 Axes>"
      ]
     },
     "metadata": {},
     "output_type": "display_data"
    }
   ],
   "source": [
    "plt.figure()"
   ]
  },
  {
   "cell_type": "code",
   "execution_count": 148,
   "id": "2388e69f-e110-4641-ab5d-204722f0d707",
   "metadata": {},
   "outputs": [
    {
     "data": {
      "text/plain": [
       "<function matplotlib.pyplot.show(close=None, block=None)>"
      ]
     },
     "execution_count": 148,
     "metadata": {},
     "output_type": "execute_result"
    },
    {
     "data": {
      "image/png": "[encoded data removed]",
      "text/plain": [
       "<Figure size 640x480 with 1 Axes>"
      ]
     },
     "metadata": {},
     "output_type": "display_data"
    }
   ],
   "source": [
    "plt.plot(walk_arr[:100])\n",
    "plt.show"
   ]
  },
  {
   "cell_type": "code",
   "execution_count": 149,
   "id": "e7639cfe-49c3-48fb-a985-1200ed5b2acc",
   "metadata": {},
   "outputs": [
    {
     "name": "stdout",
     "output_type": "stream",
     "text": [
      "9\n"
     ]
    }
   ],
   "source": [
    "print(walk_arr[:100].max())"
   ]
  },
  {
   "cell_type": "code",
   "execution_count": 151,
   "id": "f03dcc7b-a8f4-424c-91b4-6b7e241b336e",
   "metadata": {},
   "outputs": [
    {
     "name": "stdout",
     "output_type": "stream",
     "text": [
      "-1\n"
     ]
    }
   ],
   "source": [
    "print(walk_arr[:100].min())"
   ]
  },
  {
   "cell_type": "code",
   "execution_count": 157,
   "id": "9269208a-9a2e-448e-84c9-a2e97784c694",
   "metadata": {},
   "outputs": [
    {
     "name": "stdout",
     "output_type": "stream",
     "text": [
      "31\n"
     ]
    }
   ],
   "source": [
    "print((walk_arr[:100] >= 5).argmax())  #5를 넘는 것의 시작점 데이터"
   ]
  },
  {
   "cell_type": "code",
   "execution_count": null,
   "id": "1ef28516-e45c-4dc0-8b1c-398d027abf20",
   "metadata": {},
   "outputs": [],
   "source": []
  }
 ],
 "metadata": {
  "kernelspec": {
   "display_name": "Python 3 (ipykernel)",
   "language": "python",
   "name": "python3"
  },
  "language_info": {
   "codemirror_mode": {
    "name": "ipython",
    "version": 3
   },
   "file_extension": ".py",
   "mimetype": "text/x-python",
   "name": "python",
   "nbconvert_exporter": "python",
   "pygments_lexer": "ipython3",
   "version": "3.12.4"
  }
 },
 "nbformat": 4,
 "nbformat_minor": 5
}
